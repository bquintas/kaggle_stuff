{
 "cells": [
  {
   "cell_type": "markdown",
   "id": "b1acef4c",
   "metadata": {},
   "source": [
    "# Dependencies"
   ]
  },
  {
   "cell_type": "code",
   "execution_count": null,
   "id": "621660d7",
   "metadata": {},
   "outputs": [],
   "source": [
    "# !pip install -q pandas\n",
    "# !pip install -q --upgrade pip\n",
    "# !pip install -q matplotlib\n",
    "# !pip install -q sagemaker"
   ]
  },
  {
   "cell_type": "markdown",
   "id": "ee00e123",
   "metadata": {},
   "source": [
    "# Imports"
   ]
  },
  {
   "cell_type": "code",
   "execution_count": null,
   "id": "e6e2ed60",
   "metadata": {},
   "outputs": [],
   "source": [
    "import pandas as pd\n",
    "import json\n",
    "import numpy as np\n",
    "import matplotlib.pyplot as plt\n",
    "import seaborn as sns\n",
    "from sklearn.preprocessing import LabelEncoder\n",
    "from sklearn.preprocessing import OneHotEncoder\n",
    "import pickle\n",
    "import sagemaker\n",
    "from sagemaker.xgboost import XGBoost\n",
    "from sagemaker.mxnet import MXNet\n",
    "from sagemaker import get_execution_role\n",
    "from sagemaker.serializers import CSVSerializer\n",
    "import boto3\n",
    "from sagemaker.amazon.amazon_estimator import get_image_uri\n",
    "\n",
    "sns.set()\n",
    "\n",
    "%matplotlib inline"
   ]
  },
  {
   "cell_type": "code",
   "execution_count": null,
   "id": "f6011fce",
   "metadata": {},
   "outputs": [],
   "source": [
    "train_data = pd.read_csv('train.csv')\n",
    "test_data = pd.read_csv('test.csv')"
   ]
  },
  {
   "cell_type": "markdown",
   "id": "1872195e",
   "metadata": {},
   "source": [
    "## Exploratory Data Analysis"
   ]
  },
  {
   "cell_type": "code",
   "execution_count": null,
   "id": "9f1b39b7",
   "metadata": {},
   "outputs": [],
   "source": [
    "#First 5 rows\n",
    "train_data.head()"
   ]
  },
  {
   "cell_type": "code",
   "execution_count": null,
   "id": "0805ff19",
   "metadata": {},
   "outputs": [],
   "source": [
    "#Displaying columns and object types\n",
    "train_data.info()"
   ]
  },
  {
   "cell_type": "code",
   "execution_count": null,
   "id": "3c760c86",
   "metadata": {},
   "outputs": [],
   "source": [
    "train_data.describe()"
   ]
  },
  {
   "cell_type": "code",
   "execution_count": null,
   "id": "7e7c0bd1",
   "metadata": {},
   "outputs": [],
   "source": [
    "#Missing values per column\n",
    "train_data.isnull().sum()"
   ]
  },
  {
   "cell_type": "markdown",
   "id": "cd908bc4",
   "metadata": {},
   "source": [
    "Auxiliary Functions"
   ]
  },
  {
   "cell_type": "code",
   "execution_count": null,
   "id": "6d33d182",
   "metadata": {},
   "outputs": [],
   "source": [
    "#Helpful functions to quickly plot stuff - credits to https://github.com/mngaonkar\n",
    "\n",
    "def plot_bar_graph(feature, train_data=train_data):\n",
    "    survived = train_data[train_data['Survived'] == 1][feature].value_counts()\n",
    "    dead = train_data[train_data['Survived'] == 0][feature].value_counts()\n",
    "    df = pd.DataFrame([survived, dead])\n",
    "    df.index = ['Survived', 'Dead']\n",
    "    df.plot(kind='bar', stacked=False, figsize=(10, 5))\n",
    "    \n",
    "def plot_feature_count(feature, train_data=train_data):\n",
    "    count = train_data[feature].value_counts()\n",
    "    # mean = train_data[feature].mean()\n",
    "    # print(\"mean = \", mean)\n",
    "    print(count)\n",
    "    df = pd.DataFrame([count])\n",
    "    df.index = [feature]\n",
    "    df.plot(kind='bar')"
   ]
  },
  {
   "cell_type": "code",
   "execution_count": null,
   "id": "9884f4fe",
   "metadata": {},
   "outputs": [],
   "source": [
    "plot_bar_graph('Sex')"
   ]
  },
  {
   "cell_type": "code",
   "execution_count": null,
   "id": "ef4b54bb",
   "metadata": {},
   "outputs": [],
   "source": [
    "plot_bar_graph('Embarked')"
   ]
  },
  {
   "cell_type": "code",
   "execution_count": null,
   "id": "5f203c1b",
   "metadata": {},
   "outputs": [],
   "source": [
    "plot_bar_graph('Pclass')"
   ]
  },
  {
   "cell_type": "markdown",
   "id": "8fe65adc",
   "metadata": {},
   "source": [
    "## Feature Engineering "
   ]
  },
  {
   "cell_type": "code",
   "execution_count": null,
   "id": "4f316ae7",
   "metadata": {},
   "outputs": [],
   "source": [
    "#moving label to 1st column\n",
    "first_column = train_data.pop('Survived')\n",
    "train_data.insert(0, 'Survived', first_column)\n",
    "train_data.head()"
   ]
  },
  {
   "cell_type": "code",
   "execution_count": null,
   "id": "a885bd04",
   "metadata": {},
   "outputs": [],
   "source": [
    "#dropping columns that shouldn't matter much names, ticket numbers, passengerid\n",
    "train_data.drop(labels=['Name', 'PassengerId', 'Ticket'], axis=1, inplace=True)\n",
    "\n",
    "#dropping Cabin also for now\n",
    "train_data.drop(labels=['Cabin'], axis=1, inplace=True)\n",
    "train_data.head()"
   ]
  },
  {
   "cell_type": "code",
   "execution_count": null,
   "id": "04f5392a",
   "metadata": {},
   "outputs": [],
   "source": [
    "# drop NaN rows for embarked\n",
    "train_data = train_data.dropna(subset=['Embarked'])\n",
    "\n",
    "# replace age NaN with mean age\n",
    "mean_age = train_data['Age'].mean()\n",
    "train_data['Age'] = train_data['Age'].fillna(mean_age)"
   ]
  },
  {
   "cell_type": "code",
   "execution_count": null,
   "id": "bb55e66a",
   "metadata": {},
   "outputs": [],
   "source": [
    "train_data.isnull().sum()"
   ]
  },
  {
   "cell_type": "code",
   "execution_count": null,
   "id": "88612df0",
   "metadata": {},
   "outputs": [],
   "source": [
    "# round age\n",
    "train_data['Age'] = train_data['Age'].apply(lambda x : int(x))\n",
    "\n",
    "# round fare\n",
    "train_data['Fare'] = train_data['Fare'].apply(lambda x : int(x))"
   ]
  },
  {
   "cell_type": "code",
   "execution_count": null,
   "id": "47ea0877",
   "metadata": {},
   "outputs": [],
   "source": [
    "# label encode sex and embarked\n",
    "label_encoder = LabelEncoder()\n",
    "train_data['Sex'] = label_encoder.fit_transform(train_data['Sex'])\n",
    "train_data['Embarked'] = label_encoder.fit_transform(train_data['Embarked'])"
   ]
  },
  {
   "cell_type": "code",
   "execution_count": null,
   "id": "dbebbf95",
   "metadata": {},
   "outputs": [],
   "source": [
    "bucket = 'your-bucket'\n",
    "prefix = 'your_prefix'"
   ]
  },
  {
   "cell_type": "code",
   "execution_count": null,
   "id": "dbe6b224",
   "metadata": {},
   "outputs": [],
   "source": [
    "train_xgboost, validation_xgboost, test_xgboost = np.split(train_data.sample(frac=1, random_state=23), [int(0.7 * len(train_data)), int(0.9 * len(train_data))])\n"
   ]
  },
  {
   "cell_type": "code",
   "execution_count": null,
   "id": "48b655bd",
   "metadata": {},
   "outputs": [],
   "source": [
    "# remove header as it is not required by XGBoost\n",
    "train_xgboost.to_csv('train_xgboost.csv', header=False, index=False)\n",
    "validation_xgboost.to_csv('validation_xgboost.csv', header=False, index=False)\n",
    "test_xgboost.to_csv('test_xgboost.csv', header=False, index=False)"
   ]
  },
  {
   "cell_type": "code",
   "execution_count": null,
   "id": "ad6d10db",
   "metadata": {},
   "outputs": [],
   "source": [
    "sagemaker_session = sagemaker.Session()\n",
    "train_path = sagemaker_session.upload_data(path='train_xgboost.csv', key_prefix='dataset')\n",
    "validation_path = sagemaker_session.upload_data(path='validation_xgboost.csv', key_prefix='dataset')\n",
    "test_path = sagemaker_session.upload_data(path='test.csv', key_prefix='test')\n",
    "print(validation_path)"
   ]
  },
  {
   "cell_type": "code",
   "execution_count": null,
   "id": "4fcb5ded",
   "metadata": {},
   "outputs": [],
   "source": [
    "container = sagemaker.image_uris.retrieve('xgboost', boto3.Session().region_name, version = 'latest')\n"
   ]
  },
  {
   "cell_type": "code",
   "execution_count": null,
   "id": "68adc83e",
   "metadata": {},
   "outputs": [],
   "source": [
    "role = sagemaker.get_execution_role()"
   ]
  },
  {
   "cell_type": "code",
   "execution_count": null,
   "id": "4372d4c5",
   "metadata": {},
   "outputs": [],
   "source": [
    "s3_input_train = sagemaker.inputs.TrainingInput(s3_data=train_path, content_type='csv')\n",
    "s3_input_validation = sagemaker.inputs.TrainingInput(s3_data=validation_path, content_type='csv')\n",
    "s3_input_test = sagemaker.inputs.TrainingInput(s3_data=test_path, content_type='csv')"
   ]
  },
  {
   "cell_type": "code",
   "execution_count": null,
   "id": "e90244dc",
   "metadata": {},
   "outputs": [],
   "source": [
    "estimator = sagemaker.estimator.Estimator(container,\n",
    "                                          role,\n",
    "                                          instance_count=1,\n",
    "                                          instance_type='ml.m5.xlarge',\n",
    "                                          output_path='s3://{}/{}/output'.format(bucket, prefix),\n",
    "                                          sagemaker_session=sagemaker_session,\n",
    "                                          use_spot_instances=True,\n",
    "                                          max_run=300,\n",
    "                                          max_wait=360,\n",
    "                                         )\n",
    "estimator.set_hyperparameters(eta=0.1,\n",
    "                             objective='binary:logistic',\n",
    "                             num_round=25)"
   ]
  },
  {
   "cell_type": "code",
   "execution_count": null,
   "id": "3064816d",
   "metadata": {},
   "outputs": [],
   "source": [
    "estimator.fit({\n",
    "    'train': s3_input_train,\n",
    "    'validation': s3_input_validation\n",
    "})"
   ]
  },
  {
   "cell_type": "code",
   "execution_count": null,
   "id": "fcc8d6cd",
   "metadata": {},
   "outputs": [],
   "source": [
    "#this is where the model is\n",
    "estimator.model_data"
   ]
  },
  {
   "cell_type": "code",
   "execution_count": null,
   "id": "3f0bfd27",
   "metadata": {},
   "outputs": [],
   "source": [
    "#deploy an inference endpoint for real time\n",
    "\n",
    "xgb_predictor=estimator.deploy(\n",
    "    initial_instance_count=1,\n",
    "    instance_type='ml.t2.medium',\n",
    "    serializer=CSVSerializer()\n",
    ")"
   ]
  },
  {
   "cell_type": "code",
   "execution_count": null,
   "id": "9c7bb9a7",
   "metadata": {},
   "outputs": [],
   "source": [
    "#Applying same pre processing to test set\n",
    "#dropping columns that shouldn't matter much names, ticket numbers, passengerid, cabin. ##UPDATE Cabin seems to impact accuracy a lot\n",
    "test_data.drop(labels=['Name', 'PassengerId', 'Ticket', 'Cabin'], axis=1, inplace=True)\n",
    "test_data.head()"
   ]
  },
  {
   "cell_type": "code",
   "execution_count": null,
   "id": "0d2a079c",
   "metadata": {},
   "outputs": [],
   "source": [
    "test_data.isnull().sum()"
   ]
  },
  {
   "cell_type": "code",
   "execution_count": null,
   "id": "b29832f6",
   "metadata": {},
   "outputs": [],
   "source": [
    "# label encode sex and embarked\n",
    "label_encoder = LabelEncoder()\n",
    "test_data['Sex'] = label_encoder.fit_transform(test_data['Sex'])\n",
    "test_data['Embarked'] = label_encoder.fit_transform(test_data['Embarked'])"
   ]
  },
  {
   "cell_type": "code",
   "execution_count": null,
   "id": "03965ca0",
   "metadata": {},
   "outputs": [],
   "source": [
    "test_data.head()"
   ]
  },
  {
   "cell_type": "code",
   "execution_count": null,
   "id": "005f65b2",
   "metadata": {},
   "outputs": [],
   "source": [
    "# replace age NaN with mean age calculated from training set\n",
    "\n",
    "test_data['Age'] = test_data['Age'].fillna(mean_age)"
   ]
  },
  {
   "cell_type": "code",
   "execution_count": null,
   "id": "71c0e545",
   "metadata": {},
   "outputs": [],
   "source": [
    "#there's one nan for fare\n",
    "\n",
    "mean_fare = train_data['Fare'].mean()\n",
    "test_data['Fare'] = test_data['Fare'].fillna(mean_fare)"
   ]
  },
  {
   "cell_type": "code",
   "execution_count": null,
   "id": "f0f3c95c",
   "metadata": {},
   "outputs": [],
   "source": [
    "# round age\n",
    "test_data['Age'] = test_data['Age'].apply(lambda x : int(x))\n",
    "\n",
    "# round fare\n",
    "test_data['Fare'] = test_data['Fare'].apply(lambda x : int(x))"
   ]
  },
  {
   "cell_type": "code",
   "execution_count": null,
   "id": "70cd0621",
   "metadata": {},
   "outputs": [],
   "source": [
    "test_data.shape\n"
   ]
  },
  {
   "cell_type": "code",
   "execution_count": null,
   "id": "b89b320b",
   "metadata": {},
   "outputs": [],
   "source": [
    "endpoint_name = xgb_predictor.endpoint_name"
   ]
  },
  {
   "cell_type": "code",
   "execution_count": null,
   "id": "9846aee9",
   "metadata": {},
   "outputs": [],
   "source": [
    "test_data.head()"
   ]
  },
  {
   "cell_type": "code",
   "execution_count": null,
   "id": "950a6672",
   "metadata": {},
   "outputs": [],
   "source": [
    "def predict(data, rows=500):\n",
    "    split_array = np.array_split(data, int(data.shape[0] / float(rows) + 1))\n",
    "    predictions = \"\"\n",
    "    for array in split_array:\n",
    "        predictions = \",\".join([predictions, xgb_predictor.predict(array).decode(\"utf-8\")])\n",
    "\n",
    "    return np.fromstring(predictions[1:], sep=\",\")\n",
    "\n",
    "\n",
    "predictions = predict(test_data.to_numpy()[:, 1:])\n"
   ]
  },
  {
   "cell_type": "code",
   "execution_count": null,
   "id": "71a9f5d7",
   "metadata": {},
   "outputs": [],
   "source": [
    "print(predictions)"
   ]
  },
  {
   "cell_type": "code",
   "execution_count": null,
   "id": "0bdd4af9",
   "metadata": {},
   "outputs": [],
   "source": [
    "def transform(val):\n",
    "    if val > 0.7:\n",
    "        return 1\n",
    "    else:\n",
    "        return 0\n",
    "        \n",
    "predictions = list(map(transform, predictions))\n",
    "print(predictions)"
   ]
  },
  {
   "cell_type": "code",
   "execution_count": null,
   "id": "92233351",
   "metadata": {},
   "outputs": [],
   "source": [
    "test_data = pd.read_csv('test.csv')\n",
    "submission = pd.DataFrame({ 'PassengerId': test_data['PassengerId'],\n",
    "                            'Survived': predictions })\n",
    "submission.to_csv(\"submission.csv\", index=False)"
   ]
  },
  {
   "cell_type": "code",
   "execution_count": null,
   "id": "746f83fc",
   "metadata": {},
   "outputs": [],
   "source": []
  }
 ],
 "metadata": {
  "kernelspec": {
   "display_name": "conda_python3",
   "language": "python",
   "name": "conda_python3"
  },
  "language_info": {
   "codemirror_mode": {
    "name": "ipython",
    "version": 3
   },
   "file_extension": ".py",
   "mimetype": "text/x-python",
   "name": "python",
   "nbconvert_exporter": "python",
   "pygments_lexer": "ipython3",
   "version": "3.8.12"
  }
 },
 "nbformat": 4,
 "nbformat_minor": 5
}
